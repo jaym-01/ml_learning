{
 "cells": [
  {
   "cell_type": "markdown",
   "metadata": {},
   "source": [
    "# micrograd"
   ]
  },
  {
   "cell_type": "code",
   "execution_count": 1,
   "metadata": {},
   "outputs": [],
   "source": [
    "import math\n",
    "import numpy as np\n",
    "import matplotlib as plt\n",
    "%matplotlib inline"
   ]
  },
  {
   "cell_type": "code",
   "execution_count": 17,
   "metadata": {},
   "outputs": [
    {
     "name": "stdout",
     "output_type": "stream",
     "text": [
      "set()\n",
      "value: -2\n"
     ]
    }
   ],
   "source": [
    "class Value:\n",
    "    def __init__(self, data, _children=()):\n",
    "        self.data = data\n",
    "        self._prev = set(_children)\n",
    "    \n",
    "    def __repr__(self):\n",
    "        return f\"value: {self.data}\"\n",
    "    \n",
    "    def __add__(self, other):\n",
    "        return Value(self.data + other.data, (self, other))\n",
    "    \n",
    "    def __mul__(self, other):\n",
    "        return Value(self.data * other.data, (self, other))\n",
    "\n",
    "a = Value(2)\n",
    "b = Value(-1)\n",
    "print(a * b)"
   ]
  }
 ],
 "metadata": {
  "kernelspec": {
   "display_name": "Python 3",
   "language": "python",
   "name": "python3"
  },
  "language_info": {
   "codemirror_mode": {
    "name": "ipython",
    "version": 3
   },
   "file_extension": ".py",
   "mimetype": "text/x-python",
   "name": "python",
   "nbconvert_exporter": "python",
   "pygments_lexer": "ipython3",
   "version": "3.10.12"
  }
 },
 "nbformat": 4,
 "nbformat_minor": 2
}
